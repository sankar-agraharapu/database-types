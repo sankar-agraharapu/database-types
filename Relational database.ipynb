{
 "cells": [
  {
   "cell_type": "markdown",
   "metadata": {},
   "source": [
    "# User Management System - CRUD Operations\n",
    "\n",
    "This notebook implements CRUD operations for a user management system using a relational database. The `users` table contains the following fields:\n",
    "- `id`: Primary Key\n",
    "- `name`: String\n",
    "- `email`: String (unique)\n",
    "- `created_at`: Timestamp\n",
    "\n",
    "### Tasks\n",
    "1. Create a new user.\n",
    "2. Read user details by ID.\n",
    "3. Update a user's email.\n",
    "4. Delete a user by ID.\n",
    "\n",
    "We'll also discuss the strengths and weaknesses of using a relational database and consider scalability techniques for handling large datasets.\n"
   ]
  },
  {
   "cell_type": "markdown",
   "metadata": {},
   "source": [
    "### Step 1: Connect to the MySQL Database\n",
    "\n",
    "In this step, we establish a connection to the MySQL database where the `users` table will be created and managed. Ensure that the MySQL server is running and the connection details are correct.\n"
   ]
  },
  {
   "cell_type": "code",
   "execution_count": 18,
   "metadata": {},
   "outputs": [
    {
     "name": "stdout",
     "output_type": "stream",
     "text": [
      "Database connection established successfully.\n"
     ]
    }
   ],
   "source": [
    "import mysql.connector\n",
    "from datetime import datetime\n",
    "\n",
    "# Establish the database connection\n",
    "db = mysql.connector.connect(\n",
    "    host=\"localhost\",      \n",
    "    user=\"root\",           \n",
    "    password=\"\",   \n",
    "    database=\"user_management\"  # Replace with your database name\n",
    ")\n",
    "\n",
    "# Create a cursor object\n",
    "cursor = db.cursor()\n",
    "\n",
    "print(\"Database connection established successfully.\")\n",
    "\n"
   ]
  },
  {
   "cell_type": "markdown",
   "metadata": {},
   "source": [
    "### Step 2: Create the `users` Table\n",
    "\n",
    "Here, we create the `users` table with the following columns:\n",
    "- `id`: Primary key, auto-incremented.\n",
    "- `name`: A string representing the user's name.\n",
    "- `email`: A unique string representing the user's email address.\n",
    "- `created_at`: A timestamp indicating when the user was created, defaulting to the current timestamp.\n"
   ]
  },
  {
   "cell_type": "code",
   "execution_count": 19,
   "metadata": {},
   "outputs": [
    {
     "name": "stdout",
     "output_type": "stream",
     "text": [
      "Table 'users' created successfully.\n"
     ]
    }
   ],
   "source": [
    "# Create the users table\n",
    "cursor.execute(\"\"\"\n",
    "CREATE TABLE IF NOT EXISTS users (\n",
    "    id INT AUTO_INCREMENT PRIMARY KEY,\n",
    "    name VARCHAR(255),\n",
    "    email VARCHAR(255) UNIQUE,\n",
    "    created_at TIMESTAMP DEFAULT CURRENT_TIMESTAMP\n",
    ")\n",
    "\"\"\")\n",
    "\n",
    "print(\"Table 'users' created successfully.\")\n"
   ]
  },
  {
   "cell_type": "markdown",
   "metadata": {},
   "source": [
    "### Step 3: Create a New User\n",
    "\n",
    "In this step, we implement the function `create_user` to insert a new user into the `users` table. The function takes the user's `name` and `email` as parameters.\n"
   ]
  },
  {
   "cell_type": "code",
   "execution_count": 25,
   "metadata": {},
   "outputs": [
    {
     "name": "stdout",
     "output_type": "stream",
     "text": [
      "User 'A.sarath' created successfully with ID: 5\n"
     ]
    }
   ],
   "source": [
    "def create_user(name, email):\n",
    "    try:\n",
    "        # Check if the email already exists\n",
    "        cursor.execute(\"SELECT id FROM users WHERE email = %s\", (email,))\n",
    "        result = cursor.fetchone()\n",
    "\n",
    "        if result:\n",
    "            print(f\"User with email '{email}' already exists with ID: {result[0]}\")\n",
    "        else:\n",
    "            # Proceed with inserting the new user\n",
    "            sql = \"INSERT INTO users (name, email) VALUES (%s, %s)\"\n",
    "            val = (name, email)\n",
    "            cursor.execute(sql, val)\n",
    "            db.commit()\n",
    "            print(f\"User '{name}' created successfully with ID: {cursor.lastrowid}\")\n",
    "    except mysql.connector.Error as err:\n",
    "        db.rollback()  # Rollback the transaction if there is an error\n",
    "        print(f\"Failed to create user: {err}\")\n",
    "\n",
    "# Example usage\n",
    "create_user(\"A.sarath\", \"sarath@gmail.com\")\n",
    "\n"
   ]
  },
  {
   "cell_type": "markdown",
   "metadata": {},
   "source": [
    "### Step 4: Read User Details by ID\n",
    "\n",
    "This step implements the function `read_user` to fetch and display the details of a user by their `id`.\n"
   ]
  },
  {
   "cell_type": "code",
   "execution_count": 27,
   "metadata": {},
   "outputs": [
    {
     "name": "stdout",
     "output_type": "stream",
     "text": [
      "No user found with ID: 0\n"
     ]
    }
   ],
   "source": [
    "# Read user details by ID\n",
    "def read_user(user_id):\n",
    "    sql = \"SELECT * FROM users WHERE id = %s\"\n",
    "    cursor.execute(sql, (user_id,))\n",
    "    result = cursor.fetchone()\n",
    "    if result:\n",
    "        print(f\"User Details: ID={result[0]}, Name={result[1]}, Email={result[2]}, Created At={result[3]}\")\n",
    "    else:\n",
    "        print(f\"No user found with ID: {user_id}\")\n",
    "\n",
    "# Example usage\n",
    "read_user(0)\n"
   ]
  },
  {
   "cell_type": "markdown",
   "metadata": {},
   "source": [
    "### Step 5: Update User's Email\n",
    "\n",
    "This step implements the function `update_user_email` to update the email address of a user based on their `id`.\n"
   ]
  },
  {
   "cell_type": "code",
   "execution_count": 30,
   "metadata": {},
   "outputs": [
    {
     "name": "stdout",
     "output_type": "stream",
     "text": [
      "User ID 1's email updated to sankaragraharapu@gmail.com.\n"
     ]
    }
   ],
   "source": [
    "def update_user_email(user_id, new_email):\n",
    "    try:\n",
    "        # Check if the new email already exists for a different user\n",
    "        cursor.execute(\"SELECT id FROM users WHERE email = %s\", (new_email,))\n",
    "        result = cursor.fetchone()\n",
    "\n",
    "        if result:\n",
    "            if result[0] == user_id:\n",
    "                print(f\"New email is the same as the current email for user ID {user_id}.\")\n",
    "            else:\n",
    "                print(f\"Email '{new_email}' is already in use by another user with ID {result[0]}.\")\n",
    "        else:\n",
    "            # Proceed with updating the user's email\n",
    "            sql = \"UPDATE users SET email = %s WHERE id = %s\"\n",
    "            cursor.execute(sql, (new_email, user_id))\n",
    "            db.commit()\n",
    "            if cursor.rowcount > 0:\n",
    "                print(f\"User ID {user_id}'s email updated to {new_email}.\")\n",
    "            else:\n",
    "                print(f\"No user found with ID: {user_id}\")\n",
    "    except mysql.connector.Error as err:\n",
    "        db.rollback()  # Rollback the transaction if there is an error\n",
    "        print(f\"Failed to update email: {err}\")\n",
    "\n",
    "# Example usage\n",
    "update_user_email(1, \"sankaragraharapu@gmail.com\")\n"
   ]
  },
  {
   "cell_type": "markdown",
   "metadata": {},
   "source": [
    "\n",
    "### Step 6: Delete a User by ID\n",
    "\n",
    "In this step, we implement the function `delete_user` to remove a user from the `users` table based on their `id`.\n",
    "\n"
   ]
  },
  {
   "cell_type": "code",
   "execution_count": 29,
   "metadata": {},
   "outputs": [
    {
     "name": "stdout",
     "output_type": "stream",
     "text": [
      "User ID 4 deleted successfully.\n"
     ]
    }
   ],
   "source": [
    "# Delete a user by ID\n",
    "def delete_user(user_id):\n",
    "    sql = \"DELETE FROM users WHERE id = %s\"\n",
    "    cursor.execute(sql, (user_id,))\n",
    "    db.commit()\n",
    "    if cursor.rowcount > 0:\n",
    "        print(f\"User ID {user_id} deleted successfully.\")\n",
    "    else:\n",
    "        print(f\"No user found with ID: {user_id}\")\n",
    "\n",
    "# Example usage\n",
    "delete_user(4)"
   ]
  },
  {
   "cell_type": "markdown",
   "metadata": {},
   "source": [
    "### Step 7: Close the Connection\n",
    "\n",
    "Finally, we close the database connection to ensure that no resources are left open.\n"
   ]
  },
  {
   "cell_type": "code",
   "execution_count": null,
   "metadata": {},
   "outputs": [],
   "source": [
    "# Close the cursor and connection\n",
    "cursor.close()\n",
    "db.close()\n",
    "\n",
    "print(\"Database connection closed.\")\n"
   ]
  },
  {
   "cell_type": "markdown",
   "metadata": {},
   "source": [
    "# Strengths and Weaknesses of Relational Databases\n",
    "\n",
    "**Strengths:**\n",
    "1. **ACID Compliance**: Ensures reliable transactions and data integrity.\n",
    "2. **Data Integrity**: Strong data integrity through foreign keys, constraints, and normalization.\n",
    "3. **Complex Queries**: Supports complex SQL queries and joins across multiple tables.\n",
    "4. **Standardization**: SQL is a widely adopted standard for database queries.\n",
    "\n",
    "**Weaknesses:**\n",
    "1. **Scalability**: Vertical scaling can become expensive and challenging for very large datasets.\n",
    "2. **Rigid Schema**: Schema changes can be difficult and time-consuming.\n",
    "3. **Performance**: May suffer in write-heavy applications or with large volumes of unstructured data.\n"
   ]
  },
  {
   "cell_type": "markdown",
   "metadata": {},
   "source": [
    "# Handling Scalability Beyond 10TB\n",
    "\n",
    "As the database grows beyond 10TB, traditional relational databases might struggle with performance and management. To handle such large datasets, consider the following techniques:\n",
    "\n",
    "1. **Partitioning**:\n",
    "   - **Horizontal Partitioning (Sharding)**: Split large tables across multiple databases or servers. Each shard contains a subset of the data, allowing for parallel processing and improved performance.\n",
    "   - **Vertical Partitioning**: Split a table into smaller tables containing fewer columns, which can improve performance for specific queries.\n",
    "\n",
    "2. **Sharding**:\n",
    "   - Distribute data across multiple servers (shards) based on a shard key, such as `user_id`. This distributes the load and allows for horizontal scaling.\n",
    "\n",
    "3. **Indexing**:\n",
    "   - Use indexes on frequently queried columns to improve read performance. However, be mindful of the trade-offs, as excessive indexing can slow down write operations.\n",
    "\n",
    "4. **Caching**:\n",
    "   - Implement caching layers (e.g., Redis, Memcached) to store frequently accessed data in memory, reducing the load on the database.\n",
    "\n",
    "5. **Data Archiving**:\n",
    "   - Move old or infrequently accessed data to an archive or data warehouse, keeping the active dataset smaller and more manageable.\n",
    "\n",
    "6. **Database Optimization**:\n",
    "   - Regularly optimize database queries, normalize tables, and monitor performance to ensure efficient data access and storage.\n",
    "\n",
    "By employing these techniques, you can scale your relational database to handle larger datasets while maintaining performance and reliability.\n"
   ]
  }
 ],
 "metadata": {
  "kernelspec": {
   "display_name": "Python 3",
   "language": "python",
   "name": "python3"
  },
  "language_info": {
   "codemirror_mode": {
    "name": "ipython",
    "version": 3
   },
   "file_extension": ".py",
   "mimetype": "text/x-python",
   "name": "python",
   "nbconvert_exporter": "python",
   "pygments_lexer": "ipython3",
   "version": "3.12.4"
  }
 },
 "nbformat": 4,
 "nbformat_minor": 2
}
